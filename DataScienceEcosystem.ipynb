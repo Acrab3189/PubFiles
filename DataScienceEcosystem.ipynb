{
 "cells": [
  {
   "cell_type": "markdown",
   "id": "a241c3b0-d095-4d4d-be29-233482fafbd3",
   "metadata": {},
   "source": [
    "# Data Science Tools and Ecosystem"
   ]
  },
  {
   "cell_type": "markdown",
   "id": "e804b871-a249-4664-b64d-176e0360aa29",
   "metadata": {},
   "source": [
    "In this notebook, Data Science tools and ecosystem are summarized"
   ]
  },
  {
   "cell_type": "markdown",
   "id": "fd26ce83-ab47-49a2-8f29-135b856ad5d6",
   "metadata": {},
   "source": [
    "Some of the popular languages that Data Scientists use are:"
   ]
  },
  {
   "cell_type": "markdown",
   "id": "9c102ecf-b4d8-4d2d-bbbc-3a4880709d96",
   "metadata": {},
   "source": [
    "1. Python\n",
    "2. SQL\n",
    "3. R\n",
    "4. Scala\n",
    "5. Java\n",
    "6. C++"
   ]
  },
  {
   "cell_type": "markdown",
   "id": "c08b93c2-788f-4df2-b6bc-6f99745fcb81",
   "metadata": {},
   "source": [
    "Some of the commonly used libraries use by Data Scientists include:"
   ]
  },
  {
   "cell_type": "markdown",
   "id": "d7ee7e3e-ddbd-4e14-bbf4-d49836224ea9",
   "metadata": {},
   "source": [
    "1. Pandas\n",
    "2. NumPy\n",
    "3. TensorFlow\n",
    "4. Matplotlib"
   ]
  },
  {
   "cell_type": "markdown",
   "id": "bcb6d2c0-6631-47f2-ab69-a6b3f4373ea4",
   "metadata": {},
   "source": [
    "|Data Science Tools|\n",
    "|----------------|\n",
    "| R|\n",
    "|Python|\n",
    "|MatLab|"
   ]
  },
  {
   "cell_type": "markdown",
   "id": "18a53050-8871-4294-a27a-192cafe40969",
   "metadata": {},
   "source": [
    "### Below are a few examples of evaluating arithmetic expressions in Python"
   ]
  },
  {
   "cell_type": "code",
   "execution_count": 6,
   "id": "4d4c8ccb-c749-45f0-94e7-5315d8aab1c8",
   "metadata": {},
   "outputs": [
    {
     "data": {
      "text/plain": [
       "17"
      ]
     },
     "execution_count": 6,
     "metadata": {},
     "output_type": "execute_result"
    }
   ],
   "source": [
    "#This is a simple arithmetic expression to multiply and add integers\n",
    "(3*4)+5\n"
   ]
  },
  {
   "cell_type": "code",
   "execution_count": 8,
   "id": "43700ea2-644e-4c4b-ad67-c9d473100518",
   "metadata": {},
   "outputs": [
    {
     "data": {
      "text/plain": [
       "33.333333333333336"
      ]
     },
     "execution_count": 8,
     "metadata": {},
     "output_type": "execute_result"
    }
   ],
   "source": [
    "# This will convert 200 minutes into hours\n",
    "200/6"
   ]
  },
  {
   "cell_type": "markdown",
   "id": "34537c0b-40b6-4b04-bdfe-0f6a5aa894a8",
   "metadata": {},
   "source": [
    "**Objectives:**\n",
    "- Languages used in Data Science\n",
    "- Libraries used in Data Science\n",
    "- Operations in Python with explanations"
   ]
  },
  {
   "cell_type": "markdown",
   "id": "45da168c-bfed-4f65-a6d6-67195d2ecd27",
   "metadata": {},
   "source": [
    "## Author \n",
    "Aaron Crabtree"
   ]
  }
 ],
 "metadata": {
  "kernelspec": {
   "display_name": "Python 3 (ipykernel)",
   "language": "python",
   "name": "python3"
  },
  "language_info": {
   "codemirror_mode": {
    "name": "ipython",
    "version": 3
   },
   "file_extension": ".py",
   "mimetype": "text/x-python",
   "name": "python",
   "nbconvert_exporter": "python",
   "pygments_lexer": "ipython3",
   "version": "3.9.13"
  }
 },
 "nbformat": 4,
 "nbformat_minor": 5
}
